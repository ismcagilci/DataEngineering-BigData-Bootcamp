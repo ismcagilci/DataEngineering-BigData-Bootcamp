{
 "cells": [
  {
   "cell_type": "markdown",
   "metadata": {},
   "source": [
    "##  Python Ödev:\n",
    "\n",
    "•\tKullanıcıdan alınan İSİM, SOYİSİM, TC, DOĞUM TARİHİ bilgilerinin gerçek bir tüzel kişiye mi ait olduğunu kontrol eden fonksiyon yazınız. (bu kontrol için edevlet’in yazmış olduğu web servisi kullanın)\n",
    "\n",
    "•\tBu inputlar fonksiyona dışarıdan (kullanıcı yazma işlemini yapacak) parametre olarak gönderilecektir.\n",
    "\n",
    "•\tFonksiyon sonucu True veya False dönmeli. Fonksiyon sonucundan dönen değer doğru ise, gelen veri bir önceki ödevde verilen veritabanı bilgileriyle tabloya eklenmelidir. Dönen değer False ise, ekrana bilgi mesajı dönülmelidir. ( mysql veritabanında isim_soyisim_ikinciodev adında tablo oluşturup bu tabloya verileri ekleyin)\n",
    "\t"
   ]
  },
  {
   "cell_type": "code",
   "execution_count": 1,
   "metadata": {},
   "outputs": [],
   "source": [
    "#Verileri alalım\n",
    "def get_info():\n",
    "    name = input(\"İsim(Büyük harfler): \")\n",
    "    surname = input(\"Soyisim(Büyük harfler): \")\n",
    "    tc = int(input(\"Tc: \"))\n",
    "    birth = int(input(\"Doğum tarihi(Yıl): \"))\n",
    "    args={\n",
    "    \"Ad\":name,\n",
    "    \"Soyad\":surname,\n",
    "    \"TCKimlikNo\":tc,\n",
    "    \"DogumYili\":birth\n",
    "    }\n",
    "    return args\n",
    "    "
   ]
  },
  {
   "cell_type": "code",
   "execution_count": 9,
   "metadata": {},
   "outputs": [],
   "source": [
    "import mysql.connector\n",
    "from mysql.connector.errors import Error\n",
    "def connectDB():\n",
    "    try:\n",
    "        cnx = mysql.connector.connect(user='root', password='istdsa',\n",
    "                                  host='35.202.76.28',\n",
    "                                  database='istdsa_de_new')\n",
    "        return cnx\n",
    "    except Error as e:\n",
    "        print(e)\n",
    "        return False\n",
    "def createTable(tableName):\n",
    "    cnx = connectDB()\n",
    "    if cnx:\n",
    "        mycursor = cnx.cursor()\n",
    "        mycursor.execute(\"CREATE TABLE IF NOT EXISTS \" + tableName + \" (NAME VARCHAR(255),SURNAME VARCHAR(255),TC INT,BIRTH INT)\")\n",
    "        print(\"Tablo oluşturuldu\")\n",
    "        cnx.close()\n",
    "    else:\n",
    "        print(\"Hata\")\n",
    "def deleteTable(tableName):\n",
    "    cnx = connectDB()\n",
    "    if cnx:\n",
    "        mycursor = cnx.cursor()\n",
    "        mycursor.execute(\"DROP TABLE IF EXISTS \"+tableName)\n",
    "        print(\"{} silindi\".format(tableName))\n",
    "        cnx.close()\n",
    "def listTables():\n",
    "    cnx = connectDB()\n",
    "    if cnx:\n",
    "        mycursor = cnx.cursor()\n",
    "        mycursor.execute(\"SHOW TABLES\")\n",
    "        table_list = []\n",
    "        for table in mycursor:\n",
    "            table_list.append(table)\n",
    "        cnx.close()\n",
    "        return table_list\n",
    "    \n",
    "def checkTable(tablename):\n",
    "    cnx = connectDB()\n",
    "    if cnx:\n",
    "        mycursor = cnx.cursor()\n",
    "        mycursor.execute(\"SHOW TABLES LIKE '\"+tablename+\"'\")\n",
    "        return True\n",
    "    else:\n",
    "        return False\n",
    "    \n",
    "def addValue(tablename,args):\n",
    "    #Tablo var mı yok mu kontrol et\n",
    "    if checkTable(tablename):\n",
    "        cnx = connectDB()\n",
    "        if cnx:\n",
    "            mycursor = cnx.cursor()\n",
    "            insert_stmt = (\n",
    "            \"INSERT INTO \"+table_name+\" (NAME,SURNAME,TC,BIRTH)\"\n",
    "            \"VALUES (%s, %s, %s, %s)\")\n",
    "            mycursor.execute(insert_stmt,args)\n",
    "            cnx.commit()\n",
    "            mycursor.close()\n",
    "            print(\"Veriler eklendi\")\n",
    "    else:\n",
    "        print(\"Tablo bulunamadı\")\n",
    "def showTable(tableName):\n",
    "    cnx = connectDB()\n",
    "    if cnx:\n",
    "        mycursor = cnx.cursor()\n",
    "        mycursor.execute(\"SELECT * FROM \"+table_name)\n",
    "        return mycursor.fetchall()"
   ]
  },
  {
   "cell_type": "code",
   "execution_count": 121,
   "metadata": {},
   "outputs": [
    {
     "name": "stdout",
     "output_type": "stream",
     "text": [
      "Requirement already satisfied: suds-jurko in c:\\users\\cenne\\anaconda3\\lib\\site-packages (0.6)\n"
     ]
    }
   ],
   "source": [
    "#Rest bağlantısı için lib indirelim\n",
    "!pip install suds-jurko"
   ]
  },
  {
   "cell_type": "code",
   "execution_count": 3,
   "metadata": {},
   "outputs": [],
   "source": [
    "from suds.client import Client\n",
    "WSDL_URL=\"https://tckimlik.nvi.gov.tr/Service/KPSPublic.asmx?WSDL\"\n",
    "client=Client(WSDL_URL)"
   ]
  },
  {
   "cell_type": "code",
   "execution_count": 10,
   "metadata": {},
   "outputs": [],
   "source": [
    "#Kişinin olup olmadığını check eden func yazalım\n",
    "def dogrula(args):\n",
    "    if client.service.TCKimlikNoDogrula(**args):\n",
    "        return True\n",
    "        \n",
    "    else:\n",
    "        return False"
   ]
  },
  {
   "cell_type": "code",
   "execution_count": 25,
   "metadata": {},
   "outputs": [
    {
     "name": "stdout",
     "output_type": "stream",
     "text": [
      "İsim(Büyük harfler): ECEM\n",
      "Soyisim(Büyük harfler): PANGAL\n",
      "Tc: 38173221748\n",
      "Doğum tarihi(Yıl): 1997\n"
     ]
    }
   ],
   "source": [
    "#Örnek verilerle user_data oluşturalım\n",
    "user_data=get_info()"
   ]
  },
  {
   "cell_type": "code",
   "execution_count": 26,
   "metadata": {},
   "outputs": [
    {
     "data": {
      "text/plain": [
       "True"
      ]
     },
     "execution_count": 26,
     "metadata": {},
     "output_type": "execute_result"
    }
   ],
   "source": [
    "#Deneme için TC no yu eksik yazdım ve false döndü\n",
    "dogrula(user_data)"
   ]
  },
  {
   "cell_type": "code",
   "execution_count": 13,
   "metadata": {},
   "outputs": [
    {
     "data": {
      "text/plain": [
       "{'Ad': 'İSMAİL', 'Soyad': 'ÇAĞILCI', 'TCKimlikNo': 23, 'DogumYili': 1996}"
      ]
     },
     "execution_count": 13,
     "metadata": {},
     "output_type": "execute_result"
    }
   ],
   "source": [
    "user_data"
   ]
  },
  {
   "cell_type": "code",
   "execution_count": 15,
   "metadata": {
    "scrolled": true
   },
   "outputs": [
    {
     "data": {
      "text/plain": [
       "True"
      ]
     },
     "execution_count": 15,
     "metadata": {},
     "output_type": "execute_result"
    }
   ],
   "source": [
    "#True döndüğünce veriyi db ye yazıcaz ama TC mi yazmak istemediğimden bu şekilde deneyelim\"\n",
    "#İlk önce tablomuz var mı yok mu check edelim\n",
    "table_name = \"ismail_çağılcı_ikinciödev\"\n",
    "checkTable(table_name)"
   ]
  },
  {
   "cell_type": "code",
   "execution_count": 16,
   "metadata": {},
   "outputs": [
    {
     "name": "stdout",
     "output_type": "stream",
     "text": [
      "ismail_çağılcı_ikinciödev silindi\n"
     ]
    }
   ],
   "source": [
    "#Var olan tablomuzu silelim\n",
    "deleteTable(table_name)"
   ]
  },
  {
   "cell_type": "code",
   "execution_count": 17,
   "metadata": {},
   "outputs": [],
   "source": [
    "#User datamızın elemanlarını listeye atalım\n",
    "data_list = []\n",
    "for key,value in user_data.items():\n",
    "    data_list.append(value)"
   ]
  },
  {
   "cell_type": "code",
   "execution_count": 18,
   "metadata": {},
   "outputs": [
    {
     "name": "stdout",
     "output_type": "stream",
     "text": [
      "Tablo oluşturuldu\n"
     ]
    }
   ],
   "source": [
    "#Tablo oluşturalım\n",
    "\n",
    "createTable(table_name)"
   ]
  },
  {
   "cell_type": "code",
   "execution_count": 19,
   "metadata": {},
   "outputs": [
    {
     "name": "stdout",
     "output_type": "stream",
     "text": [
      "Veriler eklendi\n"
     ]
    }
   ],
   "source": [
    "#User data verilerimizi yeni oluşturduğumuz tabloya ekleyelim\n",
    "addValue(table_name,tuple(data_list))"
   ]
  },
  {
   "cell_type": "code",
   "execution_count": 20,
   "metadata": {},
   "outputs": [],
   "source": [
    "#Verileri kontrol edelim\n",
    "table_data = showTable(table_name)"
   ]
  },
  {
   "cell_type": "code",
   "execution_count": 22,
   "metadata": {},
   "outputs": [
    {
     "data": {
      "text/plain": [
       "[('İSMAİL', 'ÇAĞILCI', 23, 1996)]"
      ]
     },
     "execution_count": 22,
     "metadata": {},
     "output_type": "execute_result"
    }
   ],
   "source": [
    "#Eklenen verilerimize bakalım\n",
    "table_data"
   ]
  }
 ],
 "metadata": {
  "kernelspec": {
   "display_name": "Python 3",
   "language": "python",
   "name": "python3"
  },
  "language_info": {
   "codemirror_mode": {
    "name": "ipython",
    "version": 3
   },
   "file_extension": ".py",
   "mimetype": "text/x-python",
   "name": "python",
   "nbconvert_exporter": "python",
   "pygments_lexer": "ipython3",
   "version": "3.8.5"
  }
 },
 "nbformat": 4,
 "nbformat_minor": 4
}
