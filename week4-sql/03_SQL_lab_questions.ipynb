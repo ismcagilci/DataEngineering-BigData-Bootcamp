{
 "cells": [
  {
   "cell_type": "markdown",
   "metadata": {},
   "source": [
    "## Questions"
   ]
  },
  {
   "cell_type": "code",
   "execution_count": 1,
   "metadata": {},
   "outputs": [],
   "source": [
    "#How many Kates are there in California by year?"
   ]
  },
  {
   "cell_type": "code",
   "execution_count": null,
   "metadata": {},
   "outputs": [],
   "source": [
    "SELECT COUNT(name),year from name_freq where name='Kate' GROUP BY year;"
   ]
  },
  {
   "cell_type": "code",
   "execution_count": 3,
   "metadata": {},
   "outputs": [],
   "source": [
    "#Which year had the most Kates born in California?"
   ]
  },
  {
   "cell_type": "code",
   "execution_count": null,
   "metadata": {},
   "outputs": [],
   "source": [
    "SELECT COUNT(name),year from name_freq where name='Kate' GROUP BY year ORDER BY COUNT(name) DESC\n",
    "\n",
    " count | year \n",
    "-------+------\n",
    "    50 | 2004\n",
    "    47 | 2005\n",
    "    47 | 2006\n",
    "    47 | 2008\n",
    "    47 | 2007\n",
    "    46 | 1982\n",
    "    45 | 2012\n",
    "    45 | 2011\n",
    "    45 | 2003\n"
   ]
  },
  {
   "cell_type": "code",
   "execution_count": 12,
   "metadata": {},
   "outputs": [],
   "source": [
    "#What is the most popular boy's name in the South in 2000?"
   ]
  },
  {
   "cell_type": "code",
   "execution_count": null,
   "metadata": {},
   "outputs": [],
   "source": [
    "SELECT COUNT(name),name FROM name_freq_region WHERE region='South'and gender='M' GROUP BY name ORDER BY COUNT(name) DESC;\n",
    "\n",
    "count |      name      \n",
    "-------+----------------\n",
    "  2112 | Mark\n",
    "  2112 | Timothy\n",
    "  2112 | Robert\n",
    "  2112 | Kenneth\n",
    "  2112 | Anthony\n",
    "  2112 | Christopher\n",
    "  2112 | Daniel"
   ]
  },
  {
   "cell_type": "code",
   "execution_count": 13,
   "metadata": {},
   "outputs": [],
   "source": [
    "#What is the most popular girl's name in the South in 2000?"
   ]
  },
  {
   "cell_type": "code",
   "execution_count": null,
   "metadata": {},
   "outputs": [],
   "source": [
    "SELECT COUNT(name),name FROM name_freq_region WHERE region='South'and gender='F' GROUP BY name ORDER BY COUNT(name) DESC;\n",
    "\n",
    "count |      name      \n",
    "-------+----------------\n",
    "  2112 | Elizabeth\n",
    "  2112 | Victoria\n",
    "  2112 | Sarah\n",
    "  2112 | Katherine\n",
    "  2108 | Julia\n",
    "  2106 | Maria\n",
    "  2104 | Anna\n"
   ]
  },
  {
   "cell_type": "code",
   "execution_count": 14,
   "metadata": {},
   "outputs": [],
   "source": [
    "#Which state has the greatest number of different names in 2000?"
   ]
  },
  {
   "cell_type": "code",
   "execution_count": null,
   "metadata": {},
   "outputs": [],
   "source": [
    "SELECT COUNT(DISTINCT name),state FROM name_freq_region GROUP BY state ORDER BY COUNT(DISTINCT name) DESC;\n",
    "\n",
    "count | state \n",
    "-------+-------\n",
    " 18855 | CA\n",
    " 15924 | TX\n",
    " 13741 | NY\n",
    " 10812 | FL\n",
    " 10373 | IL\n",
    "  8897 | GA"
   ]
  },
  {
   "cell_type": "code",
   "execution_count": 7,
   "metadata": {},
   "outputs": [],
   "source": [
    "#Which region has the greatest number of different names in 2000?"
   ]
  },
  {
   "cell_type": "code",
   "execution_count": null,
   "metadata": {},
   "outputs": [],
   "source": [
    "SELECT COUNT(DISTINCT name),region FROM name_freq_region GROUP BY region ORDER BY COUNT(DISTINCT name) DESC;\n",
    " \n",
    "\n",
    " count |    region    \n",
    "-------+--------------\n",
    " 19343 | South\n",
    " 19074 | Pacific\n",
    " 15119 | Mid_Atlantic\n",
    " 12607 | Midwest\n",
    "  8237 |\n",
    "  6961 | Mountain\n",
    "  5077 | New_England\n",
    "  1631 | New England\n",
    "(8 rows)\n"
   ]
  },
  {
   "cell_type": "code",
   "execution_count": 15,
   "metadata": {},
   "outputs": [],
   "source": [
    "#How many children were born in each state between 2000 and 2010? Treat \"Between\" as inclusive."
   ]
  },
  {
   "cell_type": "code",
   "execution_count": null,
   "metadata": {},
   "outputs": [],
   "source": [
    "SELECT COUNT(freq),state from name_freq where year BETWEEN 2000 AND 2010 GROUP BY state;\n",
    "\n",
    "count | state \n",
    "-------+-------\n",
    "  4709 | AK\n",
    " 17583 | AL\n",
    " 12979 | AR\n",
    " 24392 | AZ\n",
    " 74741 | CA\n",
    " 19798 | CO\n"
   ]
  },
  {
   "cell_type": "code",
   "execution_count": 1,
   "metadata": {},
   "outputs": [],
   "source": [
    "#Which state doesn't have a region associated with it? Hint: you can find a list of distinct states by looking at"
   ]
  },
  {
   "cell_type": "code",
   "execution_count": null,
   "metadata": {},
   "outputs": [],
   "source": [
    "SELECT state,COUNT(DISTINCT region) FROM name_freq_region GROUP BY state ORDER BY COUNT(DISTINCT region) ASC\n",
    "\n",
    "state | count \n",
    "-------+-------\n",
    " MI    |     0\n",
    " AL    |     1\n",
    " AR    |     1\n",
    " AZ    |     1\n",
    " CA    |     1\n"
   ]
  },
  {
   "cell_type": "code",
   "execution_count": 19,
   "metadata": {},
   "outputs": [],
   "source": [
    "#Rank the most popular androgynous names in 2000 (i.e. names that were given to both males and females)?"
   ]
  },
  {
   "cell_type": "code",
   "execution_count": null,
   "metadata": {},
   "outputs": [],
   "source": [
    "SELECT name,freq from name_freq WHERE year=2000  ORDER BY freq ASC;\n",
    "\n",
    "      name       | freq \n",
    "-----------------+------\n",
    " Margaux         |    5\n",
    " Marcia          |    5\n",
    " Manal           |    5\n",
    " Mallori         |    5\n",
    " Maleah          |    5\n"
   ]
  },
  {
   "cell_type": "code",
   "execution_count": null,
   "metadata": {},
   "outputs": [],
   "source": [
    "## Challenge: There are quite a few popular names such as Emily that have a bulk of either male or female. Can you modify this query to calculate the absolute % difference between males and females, and then return those with the smallest difference (i.e. the most 'balanced' androgynous names)."
   ]
  },
  {
   "cell_type": "markdown",
   "metadata": {},
   "source": [
    "## Advanced - window functions"
   ]
  },
  {
   "cell_type": "code",
   "execution_count": 20,
   "metadata": {},
   "outputs": [],
   "source": [
    "#Which state has the highest % of John's in a 2000?"
   ]
  },
  {
   "cell_type": "code",
   "execution_count": null,
   "metadata": {},
   "outputs": [],
   "source": []
  },
  {
   "cell_type": "markdown",
   "metadata": {},
   "source": [
    "select type, variety, price\n",
    "from fruits\n",
    "where (\n",
    "   select count(*) from fruits as f\n",
    "   where f.type = fruits.type and f.price <= fruits.price\n",
    ") <= 2;\n"
   ]
  },
  {
   "cell_type": "code",
   "execution_count": 21,
   "metadata": {},
   "outputs": [],
   "source": [
    "#For each region, what is the most popular name for boys in 2010?"
   ]
  },
  {
   "cell_type": "code",
   "execution_count": null,
   "metadata": {},
   "outputs": [],
   "source": []
  }
 ],
 "metadata": {
  "kernelspec": {
   "display_name": "Python 3",
   "language": "python",
   "name": "python3"
  },
  "language_info": {
   "codemirror_mode": {
    "name": "ipython",
    "version": 3
   },
   "file_extension": ".py",
   "mimetype": "text/x-python",
   "name": "python",
   "nbconvert_exporter": "python",
   "pygments_lexer": "ipython3",
   "version": "3.8.5"
  }
 },
 "nbformat": 4,
 "nbformat_minor": 4
}
